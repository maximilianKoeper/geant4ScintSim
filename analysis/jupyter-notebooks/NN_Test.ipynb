{
 "cells": [
  {
   "cell_type": "code",
   "execution_count": null,
   "id": "58442a60",
   "metadata": {},
   "outputs": [],
   "source": [
    "%cd .."
   ]
  },
  {
   "cell_type": "code",
   "execution_count": null,
   "id": "11d63c02",
   "metadata": {},
   "outputs": [],
   "source": [
    "import json"
   ]
  },
  {
   "cell_type": "code",
   "execution_count": null,
   "id": "8270d421",
   "metadata": {},
   "outputs": [],
   "source": [
    "file = open(\"../../../out_60deg.json\")"
   ]
  },
  {
   "cell_type": "code",
   "execution_count": null,
   "id": "51a5cc60",
   "metadata": {},
   "outputs": [],
   "source": [
    "# returns JSON object as \n",
    "# a dictionary\n",
    "data = json.load(file)"
   ]
  },
  {
   "cell_type": "code",
   "execution_count": null,
   "id": "a1dfe163",
   "metadata": {},
   "outputs": [],
   "source": [
    "import torch\n",
    "from torch.utils.data import Dataset\n",
    "from torch.utils.data import DataLoader\n",
    "from torch import nn\n",
    "\n",
    "from matplotlib import pyplot as plt\n",
    "import matplotlib\n",
    "import warnings\n",
    "warnings.filterwarnings(\"ignore\")"
   ]
  },
  {
   "cell_type": "code",
   "execution_count": null,
   "id": "45ee8a32",
   "metadata": {},
   "outputs": [],
   "source": [
    "x_data = []\n",
    "y_data = []\n",
    "\n",
    "#edep_data = np.zeros((80,80), dtype=float)\n",
    "\n",
    "for eventid in data[\"event\"]:\n",
    "    edep_data = np.zeros((80,80), dtype=float)\n",
    "    index = np.array([0,0])\n",
    "    # print(eventid)\n",
    "    if \"tileHitEdep\" not in data[\"event\"][str(eventid)].keys():\n",
    "        #print(eventid)\n",
    "        continue\n",
    "    if data[\"event\"][str(eventid)][\"edep_detector\"] <= 10:\n",
    "        continue\n",
    "    for key in data[\"event\"][str(eventid)][\"tileHitEdep\"]:\n",
    "        #x_data.append(data[\"geometry\"][\"tiles\"][key][\"posX\"])\n",
    "        #y_data.append(data[\"geometry\"][\"tiles\"][key][\"posY\"])\n",
    "        x = (int(key))%80\n",
    "        y = (int(key)) // 80\n",
    "        edep = data[\"event\"][str(eventid)][\"tileHitEdep\"][key]\n",
    "        edep_data[x][y] = np.log(edep)\n",
    "        index[0] += x*edep\n",
    "        index[1] += y*edep        \n",
    "\n",
    "    #index = np.round(index/data[\"event\"][str(eventid)][\"edep_detector\"])\n",
    "    #print(index)\n",
    "    #index = unravel_index(edep_data.argmax(), edep_data.shape)\n",
    "    #print(index1 , \" | \", index)\n",
    "    #edep_data_test = edep_data[int(index[0])-20:int(index[0])+20,int(index[1])-20:int(index[1])+20]\n",
    "    edep_data_test = edep_data[:,20:60]\n",
    "    if (np.sum(np.exp(edep_data_test))/data[\"event\"][str(eventid)][\"edep_detector\"]) < 0.8:\n",
    "        print(\"WARNING\")\n",
    "        continue\n",
    "    \n",
    "    if edep_data_test.shape != (80,40):\n",
    "        print(\"ERROR\")\n",
    "        continue\n",
    "    x_data.append(np.array(edep_data_test))\n",
    "    y_data.append(data[\"event\"][str(eventid)][\"particle_energy\"]/5000)"
   ]
  },
  {
   "cell_type": "code",
   "execution_count": null,
   "id": "e5e2dfc8",
   "metadata": {},
   "outputs": [],
   "source": [
    "x_data = []\n",
    "y_data = []\n",
    "\n",
    "#edep_data = np.zeros((80,80), dtype=float)\n",
    "\n",
    "for eventid in data[\"event\"]:\n",
    "    edep_data = np.zeros((80,80), dtype=float)\n",
    "    # print(eventid)\n",
    "    if \"tileHitEdep\" not in data[\"event\"][str(eventid)].keys():\n",
    "        #print(eventid)\n",
    "        continue\n",
    "    if data[\"event\"][str(eventid)][\"edep_detector\"] <= 10:\n",
    "        continue\n",
    "    for key in data[\"event\"][str(eventid)][\"tileHitEdep\"]:\n",
    "        #x_data.append(data[\"geometry\"][\"tiles\"][key][\"posX\"])\n",
    "        #y_data.append(data[\"geometry\"][\"tiles\"][key][\"posY\"])\n",
    "        x = (int(key)) % 80\n",
    "        y = (int(key)) // 80\n",
    "        edep = data[\"event\"][str(eventid)][\"tileHitEdep\"][key]\n",
    "        edep_data[x][y] = edep\n",
    "   \n",
    "\n",
    "    x_data.append(np.array(edep_data)/100)\n",
    "    y_data.append(data[\"event\"][str(eventid)][\"particle_energy\"]/5000)"
   ]
  },
  {
   "cell_type": "code",
   "execution_count": null,
   "id": "3996df6a",
   "metadata": {},
   "outputs": [],
   "source": [
    "len(x_data)"
   ]
  },
  {
   "cell_type": "code",
   "execution_count": null,
   "id": "3a9d2955",
   "metadata": {},
   "outputs": [],
   "source": [
    "np.array(x_data).shape"
   ]
  },
  {
   "cell_type": "code",
   "execution_count": null,
   "id": "b78344f4",
   "metadata": {},
   "outputs": [],
   "source": [
    "x_train = torch.Tensor(np.array(x_data).reshape(-1, 1, 80, 40).astype('float32'))\n",
    "\n",
    "y_train = torch.Tensor(y_data).unsqueeze(-1)"
   ]
  },
  {
   "cell_type": "code",
   "execution_count": null,
   "id": "cafa4a25",
   "metadata": {},
   "outputs": [],
   "source": [
    "# Test if everything is still ok\n",
    "plt.imshow(np.array(x_train[0][0]), cmap=\"magma_r\")\n",
    "plt.show()"
   ]
  },
  {
   "cell_type": "code",
   "execution_count": null,
   "id": "fe410b22",
   "metadata": {},
   "outputs": [],
   "source": [
    "class cnn_data( Dataset ):\n",
    "    \n",
    "    def __init__( self, imgs, labels ):\n",
    "        self.imgs = imgs\n",
    "        self.labels = labels\n",
    "\n",
    "    def __len__(self):\n",
    "        return len(self.labels)\n",
    "\n",
    "    def __getitem__(self, idx):\n",
    "        return self.imgs[idx], self.labels[idx]"
   ]
  },
  {
   "cell_type": "code",
   "execution_count": null,
   "id": "ce1b27cb",
   "metadata": {},
   "outputs": [],
   "source": [
    "train_cnn_dataset = cnn_data(x_train, y_train.float())"
   ]
  },
  {
   "cell_type": "code",
   "execution_count": null,
   "id": "177e5eba",
   "metadata": {},
   "outputs": [],
   "source": [
    "train_cnn_dataloader = DataLoader( train_cnn_dataset, batch_size=32, shuffle=True )"
   ]
  },
  {
   "cell_type": "code",
   "execution_count": null,
   "id": "8b022cf6",
   "metadata": {},
   "outputs": [],
   "source": [
    "class ConvNet2D(nn.Module):\n",
    "    \n",
    "    def __init__(self, in_ch=1, ch=4, out_dim=1, img_sz=40):\n",
    "        super().__init__()\n",
    "        self.conv1 = nn.Conv2d(in_ch, ch, kernel_size=4, bias=True, stride=1, padding=2)\n",
    "        self.conv2 = nn.Conv2d(ch, 1, kernel_size=4, bias=True, stride=1, padding=2)\n",
    "        self.max = nn.MaxPool2d(kernel_size=2)\n",
    "        self.flatten = nn.Flatten()\n",
    "        self.dense1 = nn.Linear(int(80*40/16), 200, bias=True)\n",
    "        self.dense2 = nn.Linear(200, 100, bias=True)\n",
    "        self.dense3 = nn.Linear(100, out_dim, bias=True)\n",
    "        \n",
    "    def forward(self, x):\n",
    "        self.net = nn.Sequential(\n",
    "            #self.max,\n",
    "            self.conv1,\n",
    "            nn.ReLU(),\n",
    "            self.max,\n",
    "            nn.ReLU(),\n",
    "            self.conv2,\n",
    "            self.max,\n",
    "            self.flatten,\n",
    "            self.dense1,\n",
    "            nn.ReLU(),\n",
    "            self.dense2,\n",
    "            nn.ReLU(),\n",
    "            self.dense3,\n",
    "            #nn.ReLU(),\n",
    "            #self.dense4,\n",
    "            #nn.ReLU()\n",
    "            #nn.Sigmoid()\n",
    "        )\n",
    "        y = self.net(x)\n",
    "        #return torch.exp(y)\n",
    "        return y\n",
    "    "
   ]
  },
  {
   "cell_type": "code",
   "execution_count": null,
   "id": "eabf6e3f",
   "metadata": {},
   "outputs": [],
   "source": [
    "class ConvNet2D(nn.Module):\n",
    "    \n",
    "    def __init__(self, in_ch=1, ch=4, out_dim=1, img_sz=40):\n",
    "        super().__init__()\n",
    "        self.flatten = nn.Flatten()\n",
    "        self.denseIN = nn.Linear(img_sz**2, 1, bias=True)\n",
    "        self.dense1 = nn.Linear(400, 200, bias=True)\n",
    "        self.dense2 = nn.Linear(200, 100, bias=True)\n",
    "        self.dense3 = nn.Linear(100, out_dim, bias=True)\n",
    "        \n",
    "    def forward(self, x):\n",
    "        self.net = nn.Sequential(\n",
    "            #self.max,\n",
    "            self.flatten,\n",
    "            self.denseIN,\n",
    "            nn.ReLU(),\n",
    "            #self.dense1,\n",
    "            #nn.ReLU(),\n",
    "            #self.dense2,\n",
    "            #nn.ReLU(),\n",
    "            #self.dense3,\n",
    "            #nn.ReLU(),\n",
    "            #self.dense4,\n",
    "            #nn.ReLU()\n",
    "            #nn.Sigmoid()\n",
    "        )\n",
    "        y = self.net(x)\n",
    "        #return torch.exp(y)\n",
    "        return y\n",
    "    "
   ]
  },
  {
   "cell_type": "code",
   "execution_count": null,
   "id": "dad2a7d5",
   "metadata": {},
   "outputs": [],
   "source": [
    "device = \"cuda\" if torch.cuda.is_available() else \"cpu\"\n",
    "print(f\"Using {device} device\")"
   ]
  },
  {
   "cell_type": "code",
   "execution_count": null,
   "id": "4b8301b8",
   "metadata": {},
   "outputs": [],
   "source": [
    "loss_fn = nn.MSELoss()"
   ]
  },
  {
   "cell_type": "code",
   "execution_count": null,
   "id": "46622ad7",
   "metadata": {},
   "outputs": [],
   "source": [
    "def train_epoch( dataloader, model, loss_fn, optimizer ):\n",
    "    \n",
    "    size = len( dataloader.dataset )\n",
    "    \n",
    "    for batch, (X, y) in enumerate(dataloader):\n",
    "\n",
    "        # pass data through network\n",
    "        pred = model(X)\n",
    "        \n",
    "        # compute loss\n",
    "        loss = loss_fn( pred, y )\n",
    "\n",
    "        # reset gradients in optimizer\n",
    "        optimizer.zero_grad()\n",
    "        \n",
    "        # compute gradients\n",
    "        loss.backward()\n",
    "        \n",
    "        # update weights with optimizer\n",
    "        optimizer.step()\n",
    "        \n",
    "        # print the training loss every 100 updates\n",
    "        if batch % 100 == 0:\n",
    "            loss, current = loss.item(), batch * len(X)\n",
    "            print( f\"current batch loss: {loss:>7f}  [{current:>5d}/{size:>5d}]\" )"
   ]
  },
  {
   "cell_type": "code",
   "execution_count": null,
   "id": "a2ddd5e4",
   "metadata": {},
   "outputs": [],
   "source": [
    "# a useful function to present things clearer\n",
    "def separator():\n",
    "    print( \"-----------------------------------------------\" )\n",
    "\n",
    "epochs = 20\n",
    "\n",
    "# re-initialise the model and the optimizer\n",
    "model = ConvNet2D(ch=10, img_sz=80).to(device)\n",
    "learning_rate = 5e-4\n",
    "weight_decay = 1e-1\n",
    "optimizer = torch.optim.Adam( model.parameters(), lr=learning_rate, weight_decay=weight_decay )\n",
    "separator()\n",
    "print( \"model architecture \")\n",
    "separator()\n",
    "print( model )\n",
    "\n",
    "# track train and val losses\n",
    "trn_losses = []\n",
    "val_losses = []\n",
    "\n",
    "for t in range(epochs):\n",
    "    separator()\n",
    "    print( f\"Epoch {t+1}\" )\n",
    "    separator()\n",
    "    train_epoch( train_cnn_dataloader, model, loss_fn, optimizer )\n",
    "    separator()\n",
    "    #trn_loss = trn_pass( train_cnn_dataloader, model, loss_fn )\n",
    "    #trn_losses.append( trn_loss )\n",
    "    #separator()\n",
    "    #val_loss = val_pass( val_cnn_dataloader, model, loss_fn )\n",
    "    #val_losses.append( val_loss )\n",
    "    separator()\n",
    "    print( \"|\" )\n",
    "    \n",
    "print(\"Done!\")"
   ]
  },
  {
   "cell_type": "code",
   "execution_count": null,
   "id": "40bf3479",
   "metadata": {},
   "outputs": [],
   "source": [
    "model.eval()"
   ]
  },
  {
   "cell_type": "code",
   "execution_count": null,
   "id": "15807171",
   "metadata": {},
   "outputs": [],
   "source": [
    "with torch.no_grad():\n",
    "    #model.eval()\n",
    "    #model_ev = model.eval()\n",
    "    pred = model(train_cnn_dataset[1][0])\n",
    "    print(pred)"
   ]
  },
  {
   "cell_type": "code",
   "execution_count": null,
   "id": "fe55f14f",
   "metadata": {},
   "outputs": [],
   "source": [
    "float(pred)"
   ]
  },
  {
   "cell_type": "code",
   "execution_count": null,
   "id": "0e832573",
   "metadata": {},
   "outputs": [],
   "source": [
    "float(train_cnn_dataset[1][1])"
   ]
  },
  {
   "cell_type": "code",
   "execution_count": null,
   "id": "f1adf131",
   "metadata": {},
   "outputs": [],
   "source": [
    "plt.imshow(np.array(x_train.mean(0).reshape((80,80))), cmap=\"magma_r\")\n",
    "plt.show()"
   ]
  },
  {
   "cell_type": "code",
   "execution_count": null,
   "id": "4eccf6cc",
   "metadata": {},
   "outputs": [],
   "source": [
    "abw = []\n",
    "with torch.no_grad():\n",
    "    for index in range(47000):\n",
    "        pred = model(train_cnn_dataset[index][0])\n",
    "        abw.append(float(pred)-float(train_cnn_dataset[index][1]))"
   ]
  },
  {
   "cell_type": "code",
   "execution_count": null,
   "id": "c07ae63e",
   "metadata": {},
   "outputs": [],
   "source": [
    "abw_np = np.array(abw)*5000"
   ]
  },
  {
   "cell_type": "code",
   "execution_count": null,
   "id": "3e15b6cd",
   "metadata": {},
   "outputs": [],
   "source": [
    "abw_np.mean()"
   ]
  },
  {
   "cell_type": "code",
   "execution_count": null,
   "id": "2b153531",
   "metadata": {},
   "outputs": [],
   "source": [
    "plt.hist(abw_np, bins=100)\n",
    "#plt.xlim(0,5000)\n",
    "plt.show()"
   ]
  },
  {
   "cell_type": "code",
   "execution_count": null,
   "id": "92bda77b",
   "metadata": {},
   "outputs": [],
   "source": [
    "np.std(abw_np)"
   ]
  }
 ],
 "metadata": {
  "kernelspec": {
   "display_name": "Python 3 (ipykernel)",
   "language": "python",
   "name": "python3"
  },
  "language_info": {
   "codemirror_mode": {
    "name": "ipython",
    "version": 3
   },
   "file_extension": ".py",
   "mimetype": "text/x-python",
   "name": "python",
   "nbconvert_exporter": "python",
   "pygments_lexer": "ipython3",
   "version": "3.10.5"
  }
 },
 "nbformat": 4,
 "nbformat_minor": 5
}
