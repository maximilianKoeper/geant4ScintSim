{
 "cells": [
  {
   "cell_type": "code",
   "execution_count": 1,
   "id": "b39ebd65",
   "metadata": {},
   "outputs": [
    {
     "name": "stdout",
     "output_type": "stream",
     "text": [
      "/home/maximilian/docker_home/geant4ScintSim/analysis\n"
     ]
    }
   ],
   "source": [
    "%cd .."
   ]
  },
  {
   "cell_type": "code",
   "execution_count": 2,
   "id": "d28fa972",
   "metadata": {},
   "outputs": [],
   "source": [
    "import json\n",
    "\n",
    "import pythonSimHelper as psh"
   ]
  },
  {
   "cell_type": "code",
   "execution_count": 3,
   "id": "c25a91d8",
   "metadata": {},
   "outputs": [],
   "source": [
    "file = open(\"../sim/build/out.json\")"
   ]
  },
  {
   "cell_type": "code",
   "execution_count": 4,
   "id": "9a948967",
   "metadata": {},
   "outputs": [],
   "source": [
    "# returns JSON object as \n",
    "# a dictionary\n",
    "data = json.load(file)"
   ]
  },
  {
   "cell_type": "code",
   "execution_count": 5,
   "id": "15021b58",
   "metadata": {},
   "outputs": [
    {
     "data": {
      "image/png": "[encoded data removed]",
      "text/plain": [
       "<Figure size 432x288 with 2 Axes>"
      ]
     },
     "metadata": {
      "needs_background": "light"
     },
     "output_type": "display_data"
    }
   ],
   "source": [
    "psh.plotEdepDistr(300, data)"
   ]
  },
  {
   "cell_type": "code",
   "execution_count": 6,
   "id": "f6bce62a",
   "metadata": {},
   "outputs": [
    {
     "data": {
      "image/png": "[encoded data removed]",
      "text/plain": [
       "<Figure size 432x288 with 1 Axes>"
      ]
     },
     "metadata": {
      "needs_background": "light"
     },
     "output_type": "display_data"
    },
    {
     "name": "stdout",
     "output_type": "stream",
     "text": [
      "767.084539818853\n"
     ]
    }
   ],
   "source": [
    "import matplotlib.pyplot as plt\n",
    "import numpy as np\n",
    "\n",
    "\n",
    "#def plotCroppedImage(eventID: int, data: dict):\n",
    "\n",
    "eventID = 0\n",
    "f_size = 10\n",
    "\n",
    "#x_data = []\n",
    "#y_data = []\n",
    "edep_data = np.zeros((80,80), dtype=float)\n",
    "\n",
    "for key in data[\"event\"][str(eventID)][\"tileHitEdep\"]:\n",
    "    #x_data.append(data[\"geometry\"][\"tiles\"][key][\"posX\"])\n",
    "    #y_data.append(data[\"geometry\"][\"tiles\"][key][\"posY\"])\n",
    "    x = (int(key)+1)%80\n",
    "    y = (int(key)+1) // 80\n",
    "    edep_data[x][y] = data[\"event\"][str(eventID)][\"tileHitEdep\"][key]\n",
    "\n",
    "plt.imshow(edep_data, cmap=\"magma_r\")\n",
    "plt.show()\n",
    "\n",
    "\n",
    "print(data[\"event\"][str(eventID)][\"particle_energy\"])\n",
    "    "
   ]
  },
  {
   "cell_type": "code",
   "execution_count": 7,
   "id": "b939ec3c",
   "metadata": {},
   "outputs": [],
   "source": [
    "from numpy import unravel_index\n",
    "index = unravel_index(edep_data.argmax(), edep_data.shape)"
   ]
  },
  {
   "cell_type": "code",
   "execution_count": 8,
   "id": "60dc3563",
   "metadata": {},
   "outputs": [],
   "source": [
    "edep_data_test = edep_data[index[0]-20:index[0]+20,index[1]-20:index[1]+20].flatten()\n"
   ]
  },
  {
   "cell_type": "code",
   "execution_count": 9,
   "id": "594d9d54",
   "metadata": {},
   "outputs": [
    {
     "data": {
      "image/png": "[encoded data removed]",
      "text/plain": [
       "<Figure size 432x288 with 1 Axes>"
      ]
     },
     "metadata": {
      "needs_background": "light"
     },
     "output_type": "display_data"
    },
    {
     "data": {
      "text/plain": [
       "(1600,)"
      ]
     },
     "execution_count": 9,
     "metadata": {},
     "output_type": "execute_result"
    }
   ],
   "source": [
    "plt.imshow(edep_data_test.reshape((40,40)), cmap=\"magma_r\")\n",
    "plt.show()\n",
    "edep_data_test.shape"
   ]
  },
  {
   "cell_type": "code",
   "execution_count": 30,
   "id": "195a9ce4",
   "metadata": {},
   "outputs": [],
   "source": [
    "x_data = []\n",
    "y_data = []\n",
    "\n",
    "edep_data = np.zeros((80,80), dtype=float)\n",
    "\n",
    "for eventid in data[\"event\"]:\n",
    "    # print(eventid)\n",
    "    if \"tileHitEdep\" not in data[\"event\"][str(eventid)].keys():\n",
    "        #print(eventid)\n",
    "        continue\n",
    "    for key in data[\"event\"][str(eventid)][\"tileHitEdep\"]:\n",
    "        #x_data.append(data[\"geometry\"][\"tiles\"][key][\"posX\"])\n",
    "        #y_data.append(data[\"geometry\"][\"tiles\"][key][\"posY\"])\n",
    "        x = (int(key))%80\n",
    "        y = (int(key)) // 80\n",
    "        edep_data[x][y] = np.log(data[\"event\"][str(eventid)][\"tileHitEdep\"][key])\n",
    "        \n",
    "        index = unravel_index(edep_data.argmax(), edep_data.shape)\n",
    "        edep_data_test = edep_data[index[0]-20:index[0]+20,index[1]-20:index[1]+20]\n",
    "    \n",
    "    if edep_data_test.shape != (40,40):\n",
    "        continue\n",
    "    x_data.append(np.array(edep_data_test))\n",
    "    y_data.append(data[\"event\"][str(eventid)][\"particle_energy\"]/5000)"
   ]
  },
  {
   "cell_type": "code",
   "execution_count": 31,
   "id": "8bb9e0d9",
   "metadata": {},
   "outputs": [
    {
     "data": {
      "text/plain": [
       "27567"
      ]
     },
     "execution_count": 31,
     "metadata": {},
     "output_type": "execute_result"
    }
   ],
   "source": [
    "len(x_data)"
   ]
  },
  {
   "cell_type": "code",
   "execution_count": 12,
   "id": "02f17499",
   "metadata": {},
   "outputs": [
    {
     "data": {
      "text/plain": [
       "{'1343': 0.2666073402320351,\n",
       " '2991': 0.21571199538109595,\n",
       " '3071': 0.1483384565416035,\n",
       " '3074': 1.10439061146808,\n",
       " '3075': 0.3003784000825534,\n",
       " '3077': 4.834084467254381,\n",
       " '3078': 1.7524928698611542,\n",
       " '3151': 0.6153664651040434,\n",
       " '3154': 6.232304410957039,\n",
       " '3155': 17.512602735599973,\n",
       " '3156': 22.68716887288822,\n",
       " '3157': 12.964036869129446,\n",
       " '3160': 0.022304302608564197,\n",
       " '3234': 0.47125772837617386,\n",
       " '3235': 25.454388269032037,\n",
       " '3236': 60.09873984739614,\n",
       " '3237': 56.373531966807505,\n",
       " '3238': 4.254981821953694,\n",
       " '3314': 0.3336797965621666,\n",
       " '3315': 0.5630408282471239,\n",
       " '3316': 14.024432212605937,\n",
       " '3317': 1.3254606686734816,\n",
       " '3395': 0.28998114968268407,\n",
       " '3396': 11.156580690844397,\n",
       " '3397': 8.516906139005256,\n",
       " '3477': 3.825468387684562,\n",
       " '3478': 0.39830543333945595,\n",
       " '3632': 1.7343344607049365,\n",
       " '3639': 0.16785019234676654,\n",
       " '3721': 0.5814223132464141,\n",
       " '3792': 0.06374668279399698,\n",
       " '3804': 0.08668823637457035,\n",
       " '3872': 1.809793216814822,\n",
       " '3952': 5.968048628721834,\n",
       " '3955': 0.16833079570323717,\n",
       " '4031': 0.23531022490480175,\n",
       " '4033': 0.2786425520904149,\n",
       " '4040': 0.5266755338906729,\n",
       " '4048': 0.07265481215705105,\n",
       " '4211': 0.3246655146867308,\n",
       " '4291': 0.3532640016528174,\n",
       " '802': 2.586271388026934,\n",
       " '882': 0.9543763334149751}"
      ]
     },
     "execution_count": 12,
     "metadata": {},
     "output_type": "execute_result"
    }
   ],
   "source": [
    "data[\"event\"][\"1\"][\"tileHitEdep\"]"
   ]
  },
  {
   "cell_type": "code",
   "execution_count": 32,
   "id": "322b3d7c",
   "metadata": {},
   "outputs": [],
   "source": [
    "import torch\n",
    "from torch.utils.data import Dataset\n",
    "from torch.utils.data import DataLoader\n",
    "from torch import nn"
   ]
  },
  {
   "cell_type": "code",
   "execution_count": 33,
   "id": "48340304",
   "metadata": {},
   "outputs": [],
   "source": [
    "from matplotlib import pyplot as plt\n",
    "import matplotlib\n",
    "import warnings\n",
    "warnings.filterwarnings(\"ignore\")"
   ]
  },
  {
   "cell_type": "code",
   "execution_count": 34,
   "id": "32823bda",
   "metadata": {},
   "outputs": [
    {
     "data": {
      "text/plain": [
       "(27567, 40, 40)"
      ]
     },
     "execution_count": 34,
     "metadata": {},
     "output_type": "execute_result"
    }
   ],
   "source": [
    "np.array(x_data).shape"
   ]
  },
  {
   "cell_type": "code",
   "execution_count": 35,
   "id": "ed840d53",
   "metadata": {},
   "outputs": [],
   "source": [
    "x_train = torch.Tensor(np.array(x_data).reshape(-1, 1, 40,40).astype('float32'))\n",
    "\n",
    "y_train = torch.Tensor(y_data).unsqueeze(-1)"
   ]
  },
  {
   "cell_type": "code",
   "execution_count": 36,
   "id": "34b945eb",
   "metadata": {},
   "outputs": [
    {
     "data": {
      "image/png": "[encoded data removed]",
      "text/plain": [
       "<Figure size 432x288 with 1 Axes>"
      ]
     },
     "metadata": {
      "needs_background": "light"
     },
     "output_type": "display_data"
    }
   ],
   "source": [
    "# Test if everything is still ok\n",
    "plt.imshow(np.array(x_train[0][0]), cmap=\"magma_r\")\n",
    "plt.show()"
   ]
  },
  {
   "cell_type": "code",
   "execution_count": 37,
   "id": "c429b9e2",
   "metadata": {},
   "outputs": [],
   "source": [
    "class cnn_data( Dataset ):\n",
    "    \n",
    "    def __init__( self, imgs, labels ):\n",
    "        self.imgs = imgs\n",
    "        self.labels = labels\n",
    "\n",
    "    def __len__(self):\n",
    "        return len(self.labels)\n",
    "\n",
    "    def __getitem__(self, idx):\n",
    "        return self.imgs[idx], self.labels[idx]"
   ]
  },
  {
   "cell_type": "code",
   "execution_count": 38,
   "id": "54ac2456",
   "metadata": {},
   "outputs": [],
   "source": [
    "train_cnn_dataset = cnn_data(x_train, y_train.float())"
   ]
  },
  {
   "cell_type": "code",
   "execution_count": 39,
   "id": "e2b0022f",
   "metadata": {},
   "outputs": [],
   "source": [
    "train_cnn_dataloader = DataLoader( train_cnn_dataset, batch_size=32, shuffle=True )"
   ]
  },
  {
   "cell_type": "code",
   "execution_count": 40,
   "id": "84f27cd6",
   "metadata": {},
   "outputs": [],
   "source": [
    "class ConvNet2D(nn.Module):\n",
    "    \n",
    "    def __init__(self, in_ch=1, ch=4, out_dim=1, img_sz=40):\n",
    "        super().__init__()\n",
    "        self.conv1 = nn.Conv2d(in_ch, ch, kernel_size=4, bias=True, stride=1, padding=2)\n",
    "        self.conv2 = nn.Conv2d(ch, 1, kernel_size=4, bias=True, stride=1, padding=2)\n",
    "        self.max = nn.MaxPool2d(kernel_size=2)\n",
    "        self.flatten = nn.Flatten()\n",
    "        self.dense1 = nn.Linear(int(img_sz*img_sz/16), 80, bias=True)\n",
    "        self.dense2 = nn.Linear(80, 50, bias=True)\n",
    "        self.dense3 = nn.Linear(50, out_dim, bias=True)\n",
    "        \n",
    "    def forward(self, x):\n",
    "        self.net = nn.Sequential(\n",
    "            self.conv1,\n",
    "            nn.ReLU(),\n",
    "            self.max,\n",
    "            nn.ReLU(),\n",
    "            self.conv2,\n",
    "            self.max,\n",
    "            self.flatten,\n",
    "            self.dense1,\n",
    "            nn.ReLU(),\n",
    "            self.dense2,\n",
    "            nn.ReLU(),\n",
    "            self.dense3,\n",
    "            #nn.Sigmoid()\n",
    "        )\n",
    "        return self.net(x)\n",
    "    "
   ]
  },
  {
   "cell_type": "code",
   "execution_count": 41,
   "id": "c04f4c24",
   "metadata": {},
   "outputs": [
    {
     "name": "stdout",
     "output_type": "stream",
     "text": [
      "Using cpu device\n"
     ]
    }
   ],
   "source": [
    "device = \"cuda\" if torch.cuda.is_available() else \"cpu\"\n",
    "print(f\"Using {device} device\")"
   ]
  },
  {
   "cell_type": "code",
   "execution_count": 42,
   "id": "5bd588c8",
   "metadata": {},
   "outputs": [],
   "source": [
    "loss_fn = nn.L1Loss()"
   ]
  },
  {
   "cell_type": "code",
   "execution_count": 43,
   "id": "e37e8cbb",
   "metadata": {},
   "outputs": [],
   "source": [
    "def train_epoch( dataloader, model, loss_fn, optimizer ):\n",
    "    \n",
    "    size = len( dataloader.dataset )\n",
    "    \n",
    "    for batch, (X, y) in enumerate(dataloader):\n",
    "\n",
    "        # pass data through network\n",
    "        pred = model(X)\n",
    "        \n",
    "        # compute loss\n",
    "        loss = loss_fn( pred, y )\n",
    "\n",
    "        # reset gradients in optimizer\n",
    "        optimizer.zero_grad()\n",
    "        \n",
    "        # compute gradients\n",
    "        loss.backward()\n",
    "        \n",
    "        # update weights with optimizer\n",
    "        optimizer.step()\n",
    "        \n",
    "        # print the training loss every 100 updates\n",
    "        if batch % 100 == 0:\n",
    "            loss, current = loss.item(), batch * len(X)\n",
    "            print( f\"current batch loss: {loss:>7f}  [{current:>5d}/{size:>5d}]\" )"
   ]
  },
  {
   "cell_type": "code",
   "execution_count": 44,
   "id": "e22fbe63",
   "metadata": {
    "scrolled": false
   },
   "outputs": [
    {
     "name": "stdout",
     "output_type": "stream",
     "text": [
      "-----------------------------------------------\n",
      "model architecture \n",
      "-----------------------------------------------\n",
      "ConvNet2D(\n",
      "  (conv1): Conv2d(1, 8, kernel_size=(4, 4), stride=(1, 1), padding=(2, 2))\n",
      "  (conv2): Conv2d(8, 1, kernel_size=(4, 4), stride=(1, 1), padding=(2, 2))\n",
      "  (max): MaxPool2d(kernel_size=2, stride=2, padding=0, dilation=1, ceil_mode=False)\n",
      "  (flatten): Flatten(start_dim=1, end_dim=-1)\n",
      "  (dense1): Linear(in_features=100, out_features=80, bias=True)\n",
      "  (dense2): Linear(in_features=80, out_features=50, bias=True)\n",
      "  (dense3): Linear(in_features=50, out_features=1, bias=True)\n",
      ")\n",
      "-----------------------------------------------\n",
      "Epoch 1\n",
      "-----------------------------------------------\n",
      "current batch loss: 0.615008  [    0/27567]\n",
      "current batch loss: 0.231902  [ 3200/27567]\n",
      "current batch loss: 0.205560  [ 6400/27567]\n",
      "current batch loss: 0.241852  [ 9600/27567]\n",
      "current batch loss: 0.230092  [12800/27567]\n",
      "current batch loss: 0.246224  [16000/27567]\n",
      "current batch loss: 0.144514  [19200/27567]\n",
      "current batch loss: 0.228390  [22400/27567]\n",
      "current batch loss: 0.220555  [25600/27567]\n",
      "-----------------------------------------------\n",
      "-----------------------------------------------\n",
      "|\n",
      "-----------------------------------------------\n",
      "Epoch 2\n",
      "-----------------------------------------------\n",
      "current batch loss: 0.194340  [    0/27567]\n",
      "current batch loss: 0.188366  [ 3200/27567]\n",
      "current batch loss: 0.200978  [ 6400/27567]\n",
      "current batch loss: 0.254847  [ 9600/27567]\n",
      "current batch loss: 0.227092  [12800/27567]\n",
      "current batch loss: 0.208840  [16000/27567]\n",
      "current batch loss: 0.175381  [19200/27567]\n",
      "current batch loss: 0.193393  [22400/27567]\n",
      "current batch loss: 0.234407  [25600/27567]\n",
      "-----------------------------------------------\n",
      "-----------------------------------------------\n",
      "|\n",
      "-----------------------------------------------\n",
      "Epoch 3\n",
      "-----------------------------------------------\n",
      "current batch loss: 0.209895  [    0/27567]\n",
      "current batch loss: 0.199795  [ 3200/27567]\n",
      "current batch loss: 0.179853  [ 6400/27567]\n",
      "current batch loss: 0.186405  [ 9600/27567]\n",
      "current batch loss: 0.214274  [12800/27567]\n",
      "current batch loss: 0.192695  [16000/27567]\n",
      "current batch loss: 0.161431  [19200/27567]\n",
      "current batch loss: 0.238250  [22400/27567]\n",
      "current batch loss: 0.192150  [25600/27567]\n",
      "-----------------------------------------------\n",
      "-----------------------------------------------\n",
      "|\n",
      "-----------------------------------------------\n",
      "Epoch 4\n",
      "-----------------------------------------------\n",
      "current batch loss: 0.151639  [    0/27567]\n",
      "current batch loss: 0.137603  [ 3200/27567]\n",
      "current batch loss: 0.191625  [ 6400/27567]\n",
      "current batch loss: 0.220994  [ 9600/27567]\n",
      "current batch loss: 0.211980  [12800/27567]\n",
      "current batch loss: 0.187800  [16000/27567]\n",
      "current batch loss: 0.238568  [19200/27567]\n",
      "current batch loss: 0.176763  [22400/27567]\n",
      "current batch loss: 0.142802  [25600/27567]\n",
      "-----------------------------------------------\n",
      "-----------------------------------------------\n",
      "|\n",
      "-----------------------------------------------\n",
      "Epoch 5\n",
      "-----------------------------------------------\n",
      "current batch loss: 0.204527  [    0/27567]\n",
      "current batch loss: 0.180703  [ 3200/27567]\n",
      "current batch loss: 0.229537  [ 6400/27567]\n",
      "current batch loss: 0.177516  [ 9600/27567]\n",
      "current batch loss: 0.234179  [12800/27567]\n",
      "current batch loss: 0.228747  [16000/27567]\n",
      "current batch loss: 0.199059  [19200/27567]\n",
      "current batch loss: 0.264271  [22400/27567]\n",
      "current batch loss: 0.226107  [25600/27567]\n",
      "-----------------------------------------------\n",
      "-----------------------------------------------\n",
      "|\n",
      "-----------------------------------------------\n",
      "Epoch 6\n",
      "-----------------------------------------------\n",
      "current batch loss: 0.230924  [    0/27567]\n",
      "current batch loss: 0.216666  [ 3200/27567]\n",
      "current batch loss: 0.230974  [ 6400/27567]\n",
      "current batch loss: 0.158459  [ 9600/27567]\n",
      "current batch loss: 0.223268  [12800/27567]\n",
      "current batch loss: 0.173992  [16000/27567]\n",
      "current batch loss: 0.252441  [19200/27567]\n",
      "current batch loss: 0.207321  [22400/27567]\n",
      "current batch loss: 0.181216  [25600/27567]\n",
      "-----------------------------------------------\n",
      "-----------------------------------------------\n",
      "|\n",
      "-----------------------------------------------\n",
      "Epoch 7\n",
      "-----------------------------------------------\n",
      "current batch loss: 0.233078  [    0/27567]\n",
      "current batch loss: 0.201019  [ 3200/27567]\n",
      "current batch loss: 0.209899  [ 6400/27567]\n",
      "current batch loss: 0.183169  [ 9600/27567]\n",
      "current batch loss: 0.202810  [12800/27567]\n",
      "current batch loss: 0.242055  [16000/27567]\n",
      "current batch loss: 0.203859  [19200/27567]\n",
      "current batch loss: 0.210727  [22400/27567]\n",
      "current batch loss: 0.149347  [25600/27567]\n",
      "-----------------------------------------------\n",
      "-----------------------------------------------\n",
      "|\n",
      "-----------------------------------------------\n",
      "Epoch 8\n",
      "-----------------------------------------------\n",
      "current batch loss: 0.153506  [    0/27567]\n",
      "current batch loss: 0.162753  [ 3200/27567]\n",
      "current batch loss: 0.159125  [ 6400/27567]\n",
      "current batch loss: 0.209658  [ 9600/27567]\n",
      "current batch loss: 0.139342  [12800/27567]\n",
      "current batch loss: 0.166464  [16000/27567]\n",
      "current batch loss: 0.238932  [19200/27567]\n",
      "current batch loss: 0.177842  [22400/27567]\n",
      "current batch loss: 0.185192  [25600/27567]\n",
      "-----------------------------------------------\n",
      "-----------------------------------------------\n",
      "|\n",
      "-----------------------------------------------\n",
      "Epoch 9\n",
      "-----------------------------------------------\n",
      "current batch loss: 0.195540  [    0/27567]\n",
      "current batch loss: 0.155373  [ 3200/27567]\n",
      "current batch loss: 0.212795  [ 6400/27567]\n",
      "current batch loss: 0.201714  [ 9600/27567]\n",
      "current batch loss: 0.168193  [12800/27567]\n",
      "current batch loss: 0.198039  [16000/27567]\n",
      "current batch loss: 0.190117  [19200/27567]\n",
      "current batch loss: 0.222446  [22400/27567]\n",
      "current batch loss: 0.192519  [25600/27567]\n",
      "-----------------------------------------------\n",
      "-----------------------------------------------\n",
      "|\n",
      "-----------------------------------------------\n",
      "Epoch 10\n",
      "-----------------------------------------------\n",
      "current batch loss: 0.186998  [    0/27567]\n",
      "current batch loss: 0.146889  [ 3200/27567]\n",
      "current batch loss: 0.176589  [ 6400/27567]\n",
      "current batch loss: 0.198864  [ 9600/27567]\n",
      "current batch loss: 0.195341  [12800/27567]\n",
      "current batch loss: 0.183202  [16000/27567]\n",
      "current batch loss: 0.170475  [19200/27567]\n",
      "current batch loss: 0.207321  [22400/27567]\n",
      "current batch loss: 0.200889  [25600/27567]\n",
      "-----------------------------------------------\n",
      "-----------------------------------------------\n",
      "|\n",
      "-----------------------------------------------\n",
      "Epoch 11\n",
      "-----------------------------------------------\n",
      "current batch loss: 0.207956  [    0/27567]\n",
      "current batch loss: 0.197949  [ 3200/27567]\n",
      "current batch loss: 0.248665  [ 6400/27567]\n",
      "current batch loss: 0.171540  [ 9600/27567]\n",
      "current batch loss: 0.192140  [12800/27567]\n",
      "current batch loss: 0.191185  [16000/27567]\n",
      "current batch loss: 0.141512  [19200/27567]\n",
      "current batch loss: 0.193720  [22400/27567]\n",
      "current batch loss: 0.198131  [25600/27567]\n",
      "-----------------------------------------------\n",
      "-----------------------------------------------\n",
      "|\n",
      "-----------------------------------------------\n",
      "Epoch 12\n",
      "-----------------------------------------------\n",
      "current batch loss: 0.184659  [    0/27567]\n",
      "current batch loss: 0.144999  [ 3200/27567]\n",
      "current batch loss: 0.177659  [ 6400/27567]\n",
      "current batch loss: 0.202691  [ 9600/27567]\n",
      "current batch loss: 0.190349  [12800/27567]\n",
      "current batch loss: 0.205454  [16000/27567]\n",
      "current batch loss: 0.177153  [19200/27567]\n",
      "current batch loss: 0.207033  [22400/27567]\n",
      "current batch loss: 0.255167  [25600/27567]\n",
      "-----------------------------------------------\n",
      "-----------------------------------------------\n",
      "|\n",
      "-----------------------------------------------\n",
      "Epoch 13\n",
      "-----------------------------------------------\n",
      "current batch loss: 0.209499  [    0/27567]\n",
      "current batch loss: 0.197271  [ 3200/27567]\n",
      "current batch loss: 0.161409  [ 6400/27567]\n",
      "current batch loss: 0.173228  [ 9600/27567]\n",
      "current batch loss: 0.209393  [12800/27567]\n",
      "current batch loss: 0.198057  [16000/27567]\n",
      "current batch loss: 0.164183  [19200/27567]\n",
      "current batch loss: 0.171932  [22400/27567]\n"
     ]
    },
    {
     "name": "stdout",
     "output_type": "stream",
     "text": [
      "current batch loss: 0.207995  [25600/27567]\n",
      "-----------------------------------------------\n",
      "-----------------------------------------------\n",
      "|\n",
      "-----------------------------------------------\n",
      "Epoch 14\n",
      "-----------------------------------------------\n",
      "current batch loss: 0.189156  [    0/27567]\n",
      "current batch loss: 0.172432  [ 3200/27567]\n",
      "current batch loss: 0.190753  [ 6400/27567]\n",
      "current batch loss: 0.261826  [ 9600/27567]\n",
      "current batch loss: 0.192479  [12800/27567]\n",
      "current batch loss: 0.169104  [16000/27567]\n",
      "current batch loss: 0.201374  [19200/27567]\n",
      "current batch loss: 0.208392  [22400/27567]\n",
      "current batch loss: 0.167211  [25600/27567]\n",
      "-----------------------------------------------\n",
      "-----------------------------------------------\n",
      "|\n",
      "-----------------------------------------------\n",
      "Epoch 15\n",
      "-----------------------------------------------\n",
      "current batch loss: 0.190664  [    0/27567]\n",
      "current batch loss: 0.198340  [ 3200/27567]\n",
      "current batch loss: 0.186272  [ 6400/27567]\n",
      "current batch loss: 0.175418  [ 9600/27567]\n",
      "current batch loss: 0.200588  [12800/27567]\n",
      "current batch loss: 0.163695  [16000/27567]\n",
      "current batch loss: 0.193236  [19200/27567]\n",
      "current batch loss: 0.220050  [22400/27567]\n",
      "current batch loss: 0.211220  [25600/27567]\n",
      "-----------------------------------------------\n",
      "-----------------------------------------------\n",
      "|\n",
      "-----------------------------------------------\n",
      "Epoch 16\n",
      "-----------------------------------------------\n",
      "current batch loss: 0.141336  [    0/27567]\n",
      "current batch loss: 0.186416  [ 3200/27567]\n",
      "current batch loss: 0.197453  [ 6400/27567]\n",
      "current batch loss: 0.209287  [ 9600/27567]\n",
      "current batch loss: 0.161929  [12800/27567]\n",
      "current batch loss: 0.183886  [16000/27567]\n",
      "current batch loss: 0.236504  [19200/27567]\n",
      "current batch loss: 0.146358  [22400/27567]\n",
      "current batch loss: 0.207648  [25600/27567]\n",
      "-----------------------------------------------\n",
      "-----------------------------------------------\n",
      "|\n",
      "-----------------------------------------------\n",
      "Epoch 17\n",
      "-----------------------------------------------\n",
      "current batch loss: 0.178705  [    0/27567]\n",
      "current batch loss: 0.119593  [ 3200/27567]\n",
      "current batch loss: 0.156705  [ 6400/27567]\n",
      "current batch loss: 0.240480  [ 9600/27567]\n",
      "current batch loss: 0.231044  [12800/27567]\n",
      "current batch loss: 0.176842  [16000/27567]\n",
      "current batch loss: 0.184395  [19200/27567]\n",
      "current batch loss: 0.138727  [22400/27567]\n",
      "current batch loss: 0.227000  [25600/27567]\n",
      "-----------------------------------------------\n",
      "-----------------------------------------------\n",
      "|\n",
      "-----------------------------------------------\n",
      "Epoch 18\n",
      "-----------------------------------------------\n",
      "current batch loss: 0.203439  [    0/27567]\n",
      "current batch loss: 0.196907  [ 3200/27567]\n",
      "current batch loss: 0.217078  [ 6400/27567]\n",
      "current batch loss: 0.177571  [ 9600/27567]\n",
      "current batch loss: 0.185280  [12800/27567]\n",
      "current batch loss: 0.199679  [16000/27567]\n",
      "current batch loss: 0.131445  [19200/27567]\n",
      "current batch loss: 0.228446  [22400/27567]\n",
      "current batch loss: 0.184233  [25600/27567]\n",
      "-----------------------------------------------\n",
      "-----------------------------------------------\n",
      "|\n",
      "-----------------------------------------------\n",
      "Epoch 19\n",
      "-----------------------------------------------\n",
      "current batch loss: 0.138521  [    0/27567]\n",
      "current batch loss: 0.193778  [ 3200/27567]\n",
      "current batch loss: 0.156642  [ 6400/27567]\n",
      "current batch loss: 0.140472  [ 9600/27567]\n",
      "current batch loss: 0.190657  [12800/27567]\n",
      "current batch loss: 0.224076  [16000/27567]\n",
      "current batch loss: 0.209478  [19200/27567]\n",
      "current batch loss: 0.192326  [22400/27567]\n",
      "current batch loss: 0.183332  [25600/27567]\n",
      "-----------------------------------------------\n",
      "-----------------------------------------------\n",
      "|\n",
      "-----------------------------------------------\n",
      "Epoch 20\n",
      "-----------------------------------------------\n",
      "current batch loss: 0.135717  [    0/27567]\n",
      "current batch loss: 0.196193  [ 3200/27567]\n",
      "current batch loss: 0.158437  [ 6400/27567]\n",
      "current batch loss: 0.199634  [ 9600/27567]\n",
      "current batch loss: 0.177963  [12800/27567]\n",
      "current batch loss: 0.182043  [16000/27567]\n",
      "current batch loss: 0.165019  [19200/27567]\n",
      "current batch loss: 0.196470  [22400/27567]\n",
      "current batch loss: 0.202985  [25600/27567]\n",
      "-----------------------------------------------\n",
      "-----------------------------------------------\n",
      "|\n",
      "-----------------------------------------------\n",
      "Epoch 21\n",
      "-----------------------------------------------\n",
      "current batch loss: 0.133741  [    0/27567]\n",
      "current batch loss: 0.170614  [ 3200/27567]\n",
      "current batch loss: 0.148717  [ 6400/27567]\n",
      "current batch loss: 0.182918  [ 9600/27567]\n",
      "current batch loss: 0.179774  [12800/27567]\n",
      "current batch loss: 0.169241  [16000/27567]\n",
      "current batch loss: 0.134036  [19200/27567]\n",
      "current batch loss: 0.197155  [22400/27567]\n",
      "current batch loss: 0.189212  [25600/27567]\n",
      "-----------------------------------------------\n",
      "-----------------------------------------------\n",
      "|\n",
      "-----------------------------------------------\n",
      "Epoch 22\n",
      "-----------------------------------------------\n",
      "current batch loss: 0.155009  [    0/27567]\n",
      "current batch loss: 0.131144  [ 3200/27567]\n",
      "current batch loss: 0.185014  [ 6400/27567]\n",
      "current batch loss: 0.182035  [ 9600/27567]\n",
      "current batch loss: 0.178572  [12800/27567]\n",
      "current batch loss: 0.121665  [16000/27567]\n",
      "current batch loss: 0.160439  [19200/27567]\n",
      "current batch loss: 0.160854  [22400/27567]\n",
      "current batch loss: 0.167485  [25600/27567]\n",
      "-----------------------------------------------\n",
      "-----------------------------------------------\n",
      "|\n",
      "-----------------------------------------------\n",
      "Epoch 23\n",
      "-----------------------------------------------\n",
      "current batch loss: 0.184026  [    0/27567]\n",
      "current batch loss: 0.158705  [ 3200/27567]\n",
      "current batch loss: 0.168519  [ 6400/27567]\n",
      "current batch loss: 0.189091  [ 9600/27567]\n",
      "current batch loss: 0.156574  [12800/27567]\n",
      "current batch loss: 0.199525  [16000/27567]\n",
      "current batch loss: 0.204990  [19200/27567]\n",
      "current batch loss: 0.174112  [22400/27567]\n",
      "current batch loss: 0.150536  [25600/27567]\n",
      "-----------------------------------------------\n",
      "-----------------------------------------------\n",
      "|\n",
      "-----------------------------------------------\n",
      "Epoch 24\n",
      "-----------------------------------------------\n",
      "current batch loss: 0.160777  [    0/27567]\n",
      "current batch loss: 0.164592  [ 3200/27567]\n",
      "current batch loss: 0.172281  [ 6400/27567]\n",
      "current batch loss: 0.246740  [ 9600/27567]\n",
      "current batch loss: 0.156017  [12800/27567]\n",
      "current batch loss: 0.138266  [16000/27567]\n",
      "current batch loss: 0.178193  [19200/27567]\n",
      "current batch loss: 0.173231  [22400/27567]\n",
      "current batch loss: 0.163910  [25600/27567]\n",
      "-----------------------------------------------\n",
      "-----------------------------------------------\n",
      "|\n",
      "-----------------------------------------------\n",
      "Epoch 25\n",
      "-----------------------------------------------\n",
      "current batch loss: 0.141996  [    0/27567]\n",
      "current batch loss: 0.166329  [ 3200/27567]\n",
      "current batch loss: 0.146719  [ 6400/27567]\n",
      "current batch loss: 0.187345  [ 9600/27567]\n",
      "current batch loss: 0.151243  [12800/27567]\n",
      "current batch loss: 0.177138  [16000/27567]\n",
      "current batch loss: 0.163470  [19200/27567]\n",
      "current batch loss: 0.188454  [22400/27567]\n",
      "current batch loss: 0.155284  [25600/27567]\n",
      "-----------------------------------------------\n",
      "-----------------------------------------------\n",
      "|\n",
      "-----------------------------------------------\n",
      "Epoch 26\n",
      "-----------------------------------------------\n",
      "current batch loss: 0.168973  [    0/27567]\n",
      "current batch loss: 0.136144  [ 3200/27567]\n",
      "current batch loss: 0.153297  [ 6400/27567]\n",
      "current batch loss: 0.171293  [ 9600/27567]\n",
      "current batch loss: 0.222756  [12800/27567]\n",
      "current batch loss: 0.147773  [16000/27567]\n",
      "current batch loss: 0.170343  [19200/27567]\n",
      "current batch loss: 0.174071  [22400/27567]\n",
      "current batch loss: 0.221904  [25600/27567]\n",
      "-----------------------------------------------\n",
      "-----------------------------------------------\n",
      "|\n",
      "-----------------------------------------------\n",
      "Epoch 27\n",
      "-----------------------------------------------\n",
      "current batch loss: 0.179485  [    0/27567]\n",
      "current batch loss: 0.134876  [ 3200/27567]\n",
      "current batch loss: 0.177502  [ 6400/27567]\n",
      "current batch loss: 0.164643  [ 9600/27567]\n"
     ]
    },
    {
     "name": "stdout",
     "output_type": "stream",
     "text": [
      "current batch loss: 0.202698  [12800/27567]\n",
      "current batch loss: 0.161274  [16000/27567]\n",
      "current batch loss: 0.132038  [19200/27567]\n",
      "current batch loss: 0.188848  [22400/27567]\n",
      "current batch loss: 0.152080  [25600/27567]\n",
      "-----------------------------------------------\n",
      "-----------------------------------------------\n",
      "|\n",
      "-----------------------------------------------\n",
      "Epoch 28\n",
      "-----------------------------------------------\n",
      "current batch loss: 0.188702  [    0/27567]\n",
      "current batch loss: 0.164897  [ 3200/27567]\n",
      "current batch loss: 0.229267  [ 6400/27567]\n",
      "current batch loss: 0.230194  [ 9600/27567]\n",
      "current batch loss: 0.167854  [12800/27567]\n",
      "current batch loss: 0.126746  [16000/27567]\n",
      "current batch loss: 0.199742  [19200/27567]\n",
      "current batch loss: 0.135909  [22400/27567]\n",
      "current batch loss: 0.213387  [25600/27567]\n",
      "-----------------------------------------------\n",
      "-----------------------------------------------\n",
      "|\n",
      "-----------------------------------------------\n",
      "Epoch 29\n",
      "-----------------------------------------------\n",
      "current batch loss: 0.175685  [    0/27567]\n",
      "current batch loss: 0.136936  [ 3200/27567]\n",
      "current batch loss: 0.140437  [ 6400/27567]\n",
      "current batch loss: 0.152102  [ 9600/27567]\n",
      "current batch loss: 0.161214  [12800/27567]\n",
      "current batch loss: 0.166352  [16000/27567]\n",
      "current batch loss: 0.213999  [19200/27567]\n",
      "current batch loss: 0.150732  [22400/27567]\n",
      "current batch loss: 0.201821  [25600/27567]\n",
      "-----------------------------------------------\n",
      "-----------------------------------------------\n",
      "|\n",
      "-----------------------------------------------\n",
      "Epoch 30\n",
      "-----------------------------------------------\n",
      "current batch loss: 0.134810  [    0/27567]\n",
      "current batch loss: 0.206286  [ 3200/27567]\n",
      "current batch loss: 0.138037  [ 6400/27567]\n",
      "current batch loss: 0.180050  [ 9600/27567]\n",
      "current batch loss: 0.197269  [12800/27567]\n",
      "current batch loss: 0.159723  [16000/27567]\n",
      "current batch loss: 0.149237  [19200/27567]\n",
      "current batch loss: 0.191327  [22400/27567]\n",
      "current batch loss: 0.156414  [25600/27567]\n",
      "-----------------------------------------------\n",
      "-----------------------------------------------\n",
      "|\n",
      "Done!\n"
     ]
    }
   ],
   "source": [
    "# a useful function to present things clearer\n",
    "def separator():\n",
    "    print( \"-----------------------------------------------\" )\n",
    "\n",
    "epochs = 30\n",
    "\n",
    "# re-initialise the model and the optimizer\n",
    "model = ConvNet2D(ch=8).to(device)\n",
    "learning_rate = 0.001\n",
    "optimizer = torch.optim.Adam( model.parameters(), lr=learning_rate )\n",
    "separator()\n",
    "print( \"model architecture \")\n",
    "separator()\n",
    "print( model )\n",
    "\n",
    "# track train and val losses\n",
    "trn_losses = []\n",
    "val_losses = []\n",
    "\n",
    "for t in range(epochs):\n",
    "    separator()\n",
    "    print( f\"Epoch {t+1}\" )\n",
    "    separator()\n",
    "    train_epoch( train_cnn_dataloader, model, loss_fn, optimizer )\n",
    "    separator()\n",
    "    #trn_loss = trn_pass( train_cnn_dataloader, model, loss_fn )\n",
    "    #trn_losses.append( trn_loss )\n",
    "    #separator()\n",
    "    #val_loss = val_pass( val_cnn_dataloader, model, loss_fn )\n",
    "    #val_losses.append( val_loss )\n",
    "    separator()\n",
    "    print( \"|\" )\n",
    "    \n",
    "print(\"Done!\")"
   ]
  },
  {
   "cell_type": "code",
   "execution_count": 52,
   "id": "749600c3",
   "metadata": {},
   "outputs": [],
   "source": [
    "pred = model(train_cnn_dataset[99][0])"
   ]
  },
  {
   "cell_type": "code",
   "execution_count": 53,
   "id": "38f0f21e",
   "metadata": {},
   "outputs": [
    {
     "data": {
      "text/plain": [
       "tensor([[0.1946]], grad_fn=<AddmmBackward0>)"
      ]
     },
     "execution_count": 53,
     "metadata": {},
     "output_type": "execute_result"
    }
   ],
   "source": [
    "pred"
   ]
  },
  {
   "cell_type": "code",
   "execution_count": 54,
   "id": "bab3f382",
   "metadata": {},
   "outputs": [
    {
     "data": {
      "text/plain": [
       "tensor([0.2118])"
      ]
     },
     "execution_count": 54,
     "metadata": {},
     "output_type": "execute_result"
    }
   ],
   "source": [
    "train_cnn_dataset[99][1]"
   ]
  },
  {
   "cell_type": "code",
   "execution_count": 51,
   "id": "b0470981",
   "metadata": {},
   "outputs": [
    {
     "data": {
      "image/png": "[encoded data removed]",
      "text/plain": [
       "<Figure size 432x288 with 1 Axes>"
      ]
     },
     "metadata": {
      "needs_background": "light"
     },
     "output_type": "display_data"
    }
   ],
   "source": [
    "plt.imshow(np.array(train_cnn_dataset[99][0][0]), cmap=\"magma_r\")\n",
    "plt.show()"
   ]
  },
  {
   "cell_type": "code",
   "execution_count": 71,
   "id": "e83b5d95",
   "metadata": {},
   "outputs": [],
   "source": [
    "abw = []\n",
    "with torch.no_grad():\n",
    "    for index in range(20000):\n",
    "        pred = model(train_cnn_dataset[index][0])\n",
    "        abw.append(float(pred[0])-float(train_cnn_dataset[index][1]))"
   ]
  },
  {
   "cell_type": "code",
   "execution_count": 72,
   "id": "bf305351",
   "metadata": {},
   "outputs": [],
   "source": [
    "abw_np = np.array(abw)"
   ]
  },
  {
   "cell_type": "code",
   "execution_count": 74,
   "id": "18f24f6b",
   "metadata": {},
   "outputs": [
    {
     "data": {
      "text/plain": [
       "-76.98914088743913"
      ]
     },
     "execution_count": 74,
     "metadata": {},
     "output_type": "execute_result"
    }
   ],
   "source": [
    "abw_np.mean()*5000"
   ]
  },
  {
   "cell_type": "code",
   "execution_count": 78,
   "id": "e8972575",
   "metadata": {},
   "outputs": [
    {
     "data": {
      "image/png": "[encoded data removed]",
      "text/plain": [
       "<Figure size 432x288 with 1 Axes>"
      ]
     },
     "metadata": {
      "needs_background": "light"
     },
     "output_type": "display_data"
    }
   ],
   "source": [
    "plt.hist(abw_np*5000, bins=100)\n",
    "plt.show()"
   ]
  },
  {
   "cell_type": "code",
   "execution_count": null,
   "id": "ab2e8568",
   "metadata": {},
   "outputs": [],
   "source": []
  }
 ],
 "metadata": {
  "kernelspec": {
   "display_name": "Python 3 (ipykernel)",
   "language": "python",
   "name": "python3"
  },
  "language_info": {
   "codemirror_mode": {
    "name": "ipython",
    "version": 3
   },
   "file_extension": ".py",
   "mimetype": "text/x-python",
   "name": "python",
   "nbconvert_exporter": "python",
   "pygments_lexer": "ipython3",
   "version": "3.10.5"
  }
 },
 "nbformat": 4,
 "nbformat_minor": 5
}
